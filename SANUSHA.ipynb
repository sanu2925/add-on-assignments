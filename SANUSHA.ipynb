{
  "nbformat": 4,
  "nbformat_minor": 0,
  "metadata": {
    "colab": {
      "provenance": []
    },
    "kernelspec": {
      "name": "python3",
      "display_name": "Python 3"
    },
    "language_info": {
      "name": "python"
    }
  },
  "cells": [
    {
      "cell_type": "markdown",
      "source": [],
      "metadata": {
        "id": "XYiCKlKWK_A_"
      }
    },
    {
      "cell_type": "code",
      "source": [
        "1. Write a Python function to find the maximum of three numbers Sample input:\n"
      ],
      "metadata": {
        "id": "AYG77Ob6Oh7p"
      },
      "execution_count": null,
      "outputs": []
    },
    {
      "cell_type": "code",
      "source": [
        "a = 20\n",
        "b = 12\n",
        "c = 18\n",
        "print(max(a, b, c))"
      ],
      "metadata": {
        "colab": {
          "base_uri": "https://localhost:8080/"
        },
        "id": "bYuhG4WdWlNC",
        "outputId": "93728f9b-c8fc-411b-d03c-8239cba53b18"
      },
      "execution_count": 46,
      "outputs": [
        {
          "output_type": "stream",
          "name": "stdout",
          "text": [
            "20\n"
          ]
        }
      ]
    },
    {
      "cell_type": "code",
      "source": [
        "2.Write a Python program using for loop that will iterate from 1 to 15. For each\n",
        "iteration, check if the current number is odd or even, and display the message\n",
        "to the screen as odd or even\n"
      ],
      "metadata": {
        "id": "WNvaPMO1ZgdW"
      },
      "execution_count": null,
      "outputs": []
    },
    {
      "cell_type": "code",
      "source": [
        "for i in range(1,15):\n",
        "  if(i%2==0):\n",
        "    print(i,'=even')\n",
        "  else:\n",
        "    print(i ,'=odd')\n",
        "\n",
        "\n"
      ],
      "metadata": {
        "colab": {
          "base_uri": "https://localhost:8080/"
        },
        "id": "cRbaolumaMvX",
        "outputId": "c540d689-1b3b-4b3f-b22a-45a802346b24"
      },
      "execution_count": 63,
      "outputs": [
        {
          "output_type": "stream",
          "name": "stdout",
          "text": [
            "1 =odd\n",
            "2 =even\n",
            "3 =odd\n",
            "4 =even\n",
            "5 =odd\n",
            "6 =even\n",
            "7 =odd\n",
            "8 =even\n",
            "9 =odd\n",
            "10 =even\n",
            "11 =odd\n",
            "12 =even\n",
            "13 =odd\n",
            "14 =even\n"
          ]
        }
      ]
    },
    {
      "cell_type": "code",
      "source": [
        "3.Write a Python function to calculate the factorial of a number (a nonnegative\n",
        "integer). The function accepts the number as an argument"
      ],
      "metadata": {
        "id": "ld7DS7TYa5fj"
      },
      "execution_count": 51,
      "outputs": []
    },
    {
      "cell_type": "code",
      "source": [
        "def fact(n):\n",
        "   if n==1:\n",
        "     return 1\n",
        "   else:\n",
        "    return n*fact(n-1)\n",
        "n=int(input())\n",
        "print(fact(n))"
      ],
      "metadata": {
        "colab": {
          "base_uri": "https://localhost:8080/"
        },
        "id": "Y3vWwyjsp7su",
        "outputId": "c1c186ed-47ce-49d1-ef13-00e1ee98e5b6"
      },
      "execution_count": 83,
      "outputs": [
        {
          "output_type": "stream",
          "name": "stdout",
          "text": [
            "4\n",
            "24\n"
          ]
        }
      ]
    },
    {
      "cell_type": "code",
      "source": [
        "4.Write a Python program which iterates from 1 to 10. For multiples of 2, print\n",
        "“Fizz” instead of the number and for the multiples of 5, print “Buzz”. For\n",
        "numbers which are multiples of both 2 and 5, print “FizzBuzz”."
      ],
      "metadata": {
        "id": "4GdQU7vSr-JT"
      },
      "execution_count": null,
      "outputs": []
    },
    {
      "cell_type": "code",
      "source": [
        "for i in range(1,10):\n",
        "  if i%2==0:\n",
        "    print(\"fizz\",i)\n",
        "  if i%5==0:\n",
        "    print(\"buzz\",i)\n",
        "  if i%2==0 and i%5==0:\n",
        "    print(\"frizzbuzz\",i)"
      ],
      "metadata": {
        "colab": {
          "base_uri": "https://localhost:8080/"
        },
        "id": "QbJu-g8-sB7C",
        "outputId": "e1e4036a-ed2d-455e-ce0a-6099fd7e1fda"
      },
      "execution_count": 88,
      "outputs": [
        {
          "output_type": "stream",
          "name": "stdout",
          "text": [
            "fizz 2\n",
            "fizz 4\n",
            "buzz 5\n",
            "fizz 6\n",
            "fizz 8\n"
          ]
        }
      ]
    },
    {
      "cell_type": "code",
      "source": [
        "5.Write a Python function that takes a positive integer and returns the sum of\n",
        "the cube of all the positive integers smaller than the specified number"
      ],
      "metadata": {
        "id": "dbdHuCIltFeN"
      },
      "execution_count": null,
      "outputs": []
    },
    {
      "cell_type": "code",
      "source": [
        "def sumOfSeries(n):\n",
        "    x = (n * (n + 1) / 2)\n",
        "    return (int)(x * x)\n",
        "n = 5\n",
        "print(sumOfSeries(n))"
      ],
      "metadata": {
        "colab": {
          "base_uri": "https://localhost:8080/"
        },
        "id": "ZkVSH80PyPLe",
        "outputId": "98dc8f94-bfb2-4a65-d35d-d4b0aa1ee200"
      },
      "execution_count": 118,
      "outputs": [
        {
          "output_type": "stream",
          "name": "stdout",
          "text": [
            "225\n"
          ]
        }
      ]
    },
    {
      "cell_type": "code",
      "source": [
        "6.Write a Python function to find the sum of squares of the numbers in a list"
      ],
      "metadata": {
        "id": "D54FusFSvMfy"
      },
      "execution_count": null,
      "outputs": []
    },
    {
      "cell_type": "code",
      "source": [
        "l = [1,2,3]\n",
        "print(sum(i*i for i in l))"
      ],
      "metadata": {
        "colab": {
          "base_uri": "https://localhost:8080/"
        },
        "id": "25YV0TvZw7Ds",
        "outputId": "67bf89dc-d76c-4f46-b1c9-b38481b6653f"
      },
      "execution_count": 117,
      "outputs": [
        {
          "output_type": "stream",
          "name": "stdout",
          "text": [
            "14\n"
          ]
        }
      ]
    },
    {
      "cell_type": "code",
      "source": [
        "7.Write a Python function called exponent(base,exp) that returns an integer\n",
        "value of base raises to the power of exp"
      ],
      "metadata": {
        "id": "cTmjxPtcyhP9"
      },
      "execution_count": null,
      "outputs": []
    },
    {
      "cell_type": "code",
      "source": [
        "import math\n",
        "result = math.pow(4, 2)\n",
        "print(result)"
      ],
      "metadata": {
        "colab": {
          "base_uri": "https://localhost:8080/"
        },
        "id": "eLFBfeYGyn5z",
        "outputId": "0621c5b7-12c1-40c9-ae04-455f7ff428ff"
      },
      "execution_count": 123,
      "outputs": [
        {
          "output_type": "stream",
          "name": "stdout",
          "text": [
            "16.0\n"
          ]
        }
      ]
    },
    {
      "cell_type": "code",
      "source": [
        "8.Write a Python function that takes a positive integer and returns the sum of\n",
        "the cube of all the positive integers smaller than the specified number"
      ],
      "metadata": {
        "id": "QDQJs2mnzPLp"
      },
      "execution_count": null,
      "outputs": []
    },
    {
      "cell_type": "code",
      "source": [
        "def sumOfseries(m):\n",
        "  sum=0\n",
        "  for i in range(1,m+1):\n",
        "    sum+=i *i*i\n",
        "  return sum\n",
        "m=7\n",
        "print(sumOfseries(m))"
      ],
      "metadata": {
        "colab": {
          "base_uri": "https://localhost:8080/"
        },
        "id": "gz733pl70Zls",
        "outputId": "8ab97ee2-4ffa-4c3b-8e9d-7c458ae1f072"
      },
      "execution_count": 129,
      "outputs": [
        {
          "output_type": "stream",
          "name": "stdout",
          "text": [
            "784\n"
          ]
        }
      ]
    },
    {
      "cell_type": "code",
      "source": [
        "9.Write a Python function to accept a string value from the user and display the\n",
        "count of each character in that string. Sample input: Enter a string value"
      ],
      "metadata": {
        "id": "yN5cPwQ60hXU"
      },
      "execution_count": null,
      "outputs": []
    },
    {
      "cell_type": "code",
      "source": [
        "str1 =\" sanusha Siva\"\n",
        "count = {}\n",
        "for i in str1:\n",
        "    if i in count:\n",
        "        count[i.lower()] = count[i.lower()] + 1\n",
        "    else:\n",
        "        count[i.lower()] = 1\n",
        "print(count)"
      ],
      "metadata": {
        "colab": {
          "base_uri": "https://localhost:8080/"
        },
        "id": "K0zZwfKc4pVc",
        "outputId": "700e06cc-cf7d-48c3-ed2f-46c08d429561"
      },
      "execution_count": 136,
      "outputs": [
        {
          "output_type": "stream",
          "name": "stdout",
          "text": [
            "{' ': 2, 's': 1, 'a': 3, 'n': 1, 'u': 1, 'h': 1, 'i': 1, 'v': 1}\n"
          ]
        }
      ]
    },
    {
      "cell_type": "code",
      "source": [
        "10.bit_lengthWrite a Python function to convert temperatures to and from Celsius\n",
        "Fahrenheit. [Formula: c/5=f-32/9 where c=temperature in Celsius and f=\n",
        "temperature in Fahrenheit.]"
      ],
      "metadata": {
        "id": "A8IAWblk470N"
      },
      "execution_count": null,
      "outputs": []
    },
    {
      "cell_type": "code",
      "source": [
        "celsius = float(input(\"Enter temperature\\\n",
        "in celsius: \"))\n",
        "\n",
        "fahrenheit = (celsius * 1.8) + 32\n",
        "\n",
        "print(str(celsius )+ \" degree Celsius\\\n",
        "is equal to \" + str(fahrenheit )+\" degree Fahrenheit.\")"
      ],
      "metadata": {
        "colab": {
          "base_uri": "https://localhost:8080/"
        },
        "id": "Z7Me0aKx4_K5",
        "outputId": "76909b4f-29b0-4851-eaa7-9840f5a74ff8"
      },
      "execution_count": 137,
      "outputs": [
        {
          "output_type": "stream",
          "name": "stdout",
          "text": [
            "Enter temperaturein celsius: 100\n",
            "100.0 degree Celsiusis equal to 212.0 degree Fahrenheit.\n"
          ]
        }
      ]
    },
    {
      "cell_type": "code",
      "source": [],
      "metadata": {
        "id": "PiUGx1pq5oIY"
      },
      "execution_count": null,
      "outputs": []
    }
  ]
}